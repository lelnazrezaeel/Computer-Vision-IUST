{
 "cells": [
  {
   "cell_type": "code",
   "execution_count": 1,
   "metadata": {},
   "outputs": [],
   "source": [
    "import numpy as np\n",
    "import cv2"
   ]
  },
  {
   "attachments": {},
   "cell_type": "markdown",
   "metadata": {},
   "source": [
    "### Define input and kernel"
   ]
  },
  {
   "cell_type": "code",
   "execution_count": 16,
   "metadata": {},
   "outputs": [
    {
     "name": "stdout",
     "output_type": "stream",
     "text": [
      "[[10 10 10 20 10 10 20 10]\n",
      " [10 20 20 20 20 20 20 10]\n",
      " [10 10 10 20 10 20 20 10]\n",
      " [10 10 20 30 10 20 30 10]\n",
      " [10 10 30 10 10 30 10 20]\n",
      " [20 10 30 10 30 20 20 10]\n",
      " [20 20 20 20 20 10 20 10]\n",
      " [20 20 30 20 10 30 10 30]]\n",
      "[[1 1 1]\n",
      " [1 0 0]\n",
      " [1 0 0]]\n",
      "[[0 0 1]\n",
      " [0 0 1]\n",
      " [1 1 1]]\n"
     ]
    }
   ],
   "source": [
    "kernel = np.zeros((3,3),dtype=np.uint8)\n",
    "for i in range(3):\n",
    "    kernel[0][i] = 1\n",
    "for i in range(1, 3):\n",
    "    kernel[i][0] = 1\n",
    "    \n",
    "kernel_prime = np.zeros((3,3),dtype=np.uint8)\n",
    "for i in range(3):\n",
    "    kernel_prime[2][i] = 1\n",
    "for i in range(3):\n",
    "    kernel_prime[i][2] = 1\n",
    "input = np.ones((8, 8),dtype=np.uint8) * 10\n",
    "input[0][3] = input[0][6] =  20\n",
    "for i in range(1, 7):\n",
    "    input[1][i] = 20\n",
    "input[2][3] = input[2][5] = input[2][6] = 20\n",
    "input[3][2] = input[3][5] =  20\n",
    "input[4][7] = 20\n",
    "input[5][0] = input[5][5] = input[5][6] = 20\n",
    "for i in range(5):\n",
    "    input[6][i] = 20\n",
    "input[6][6] = 20\n",
    "input[7][0] = input[7][1] = input[7][3] = 20\n",
    "input[3][3] = input[3][6] =  30\n",
    "input[4][2] = input[4][5] =  30\n",
    "input[5][2] = input[5][4] =  30\n",
    "input[7][2] = input[7][5] = input[7][7] = 30\n",
    "print(input)\n",
    "print(kernel)\n",
    "print(kernel_prime)"
   ]
  },
  {
   "attachments": {},
   "cell_type": "markdown",
   "metadata": {},
   "source": [
    "### Dilation"
   ]
  },
  {
   "cell_type": "code",
   "execution_count": 17,
   "metadata": {},
   "outputs": [
    {
     "name": "stdout",
     "output_type": "stream",
     "text": [
      "[[20 20 20 20 20 20 20 20]\n",
      " [20 20 20 20 20 20 20 20]\n",
      " [20 20 30 30 30 30 30 30]\n",
      " [10 30 30 30 30 30 30 20]\n",
      " [20 30 30 30 30 30 20 20]\n",
      " [20 30 20 30 30 20 20 20]\n",
      " [20 30 30 30 30 30 30 30]\n",
      " [20 30 30 30 30 30 30 30]]\n"
     ]
    }
   ],
   "source": [
    "dilation = cv2.dilate(input, kernel_prime, borderType=cv2.BORDER_REFLECT)\n",
    "print(dilation)"
   ]
  },
  {
   "attachments": {},
   "cell_type": "markdown",
   "metadata": {},
   "source": [
    "### Erosion"
   ]
  },
  {
   "cell_type": "code",
   "execution_count": 14,
   "metadata": {},
   "outputs": [
    {
     "name": "stdout",
     "output_type": "stream",
     "text": [
      "[[10 10 10 10 10 10 10 10]\n",
      " [10 10 10 10 10 10 10 10]\n",
      " [10 10 10 10 20 10 10 10]\n",
      " [10 10 10 10 10 10 10 10]\n",
      " [10 10 10 10 10 10 10 10]\n",
      " [10 10 10 10 10 10 10 10]\n",
      " [10 10 10 10 10 10 10 10]\n",
      " [20 20 20 20 10 10 10 10]]\n"
     ]
    }
   ],
   "source": [
    "erosion = cv2.erode(input, kernel, borderType=cv2.BORDER_REFLECT)\n",
    "print(erosion)"
   ]
  }
 ],
 "metadata": {
  "kernelspec": {
   "display_name": "Python 3.10.2 64-bit",
   "language": "python",
   "name": "python3"
  },
  "language_info": {
   "codemirror_mode": {
    "name": "ipython",
    "version": 3
   },
   "file_extension": ".py",
   "mimetype": "text/x-python",
   "name": "python",
   "nbconvert_exporter": "python",
   "pygments_lexer": "ipython3",
   "version": "3.10.2"
  },
  "orig_nbformat": 4,
  "vscode": {
   "interpreter": {
    "hash": "fb4569285eef3a3450cb62085a5b1e0da4bce0af555edc33dcf29baf3acc1368"
   }
  }
 },
 "nbformat": 4,
 "nbformat_minor": 2
}
